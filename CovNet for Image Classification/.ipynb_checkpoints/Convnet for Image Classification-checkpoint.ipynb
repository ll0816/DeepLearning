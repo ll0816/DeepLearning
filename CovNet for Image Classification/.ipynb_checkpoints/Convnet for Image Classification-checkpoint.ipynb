{
 "cells": [
  {
   "cell_type": "markdown",
   "metadata": {
    "collapsed": true,
    "deletable": true,
    "editable": true
   },
   "source": [
    "# Convnet for Image Classification"
   ]
  },
  {
   "cell_type": "code",
   "execution_count": 3,
   "metadata": {
    "collapsed": false,
    "deletable": true,
    "editable": true
   },
   "outputs": [
    {
     "name": "stderr",
     "output_type": "stream",
     "text": [
      "CIFAR-10 Dataset: 171MB [00:30, 5.66MB/s]                              \n"
     ]
    },
    {
     "name": "stdout",
     "output_type": "stream",
     "text": [
      "All files found!\n"
     ]
    }
   ],
   "source": [
    "# Course Provided\n",
    "from urllib.request import urlretrieve\n",
    "from os.path import isfile, isdir\n",
    "from tqdm import tqdm\n",
    "import problem_unittests as tests\n",
    "import tarfile\n",
    "\n",
    "cifar10_dataset_folder_path = 'cifar-10-batches-py'\n",
    "\n",
    "class DLProgress(tqdm):\n",
    "    last_block = 0\n",
    "\n",
    "    def hook(self, block_num=1, block_size=1, total_size=None):\n",
    "        self.total = total_size\n",
    "        self.update((block_num - self.last_block) * block_size)\n",
    "        self.last_block = block_num\n",
    "\n",
    "if not isfile('cifar-10-python.tar.gz'):\n",
    "    with DLProgress(unit='B', unit_scale=True, miniters=1, desc='CIFAR-10 Dataset') as pbar:\n",
    "        urlretrieve(\n",
    "            'https://www.cs.toronto.edu/~kriz/cifar-10-python.tar.gz',\n",
    "            'cifar-10-python.tar.gz',\n",
    "            pbar.hook)\n",
    "\n",
    "if not isdir(cifar10_dataset_folder_path):\n",
    "    with tarfile.open('cifar-10-python.tar.gz') as tar:\n",
    "        tar.extractall()\n",
    "        tar.close()\n",
    "\n",
    "\n",
    "tests.test_folder_path(cifar10_dataset_folder_path)"
   ]
  },
  {
   "cell_type": "markdown",
   "metadata": {
    "deletable": true,
    "editable": true
   },
   "source": [
    "## Explore the Data\n",
    "The dataset is broken into batches to prevent the machine from running out of memory.  The CIFAR-10 dataset consists of 5 batches, named `data_batch_1`, `data_batch_2`, etc.. Each batch contains the labels and images that are one of the following:\n",
    "* airplane\n",
    "* automobile\n",
    "* bird\n",
    "* cat\n",
    "* deer\n",
    "* dog\n",
    "* frog\n",
    "* horse\n",
    "* ship\n",
    "* truck"
   ]
  },
  {
   "cell_type": "code",
   "execution_count": 4,
   "metadata": {
    "collapsed": false,
    "deletable": true,
    "editable": true
   },
   "outputs": [
    {
     "name": "stdout",
     "output_type": "stream",
     "text": [
      "\n",
      "Stats of batch 1:\n",
      "Samples: 10000\n",
      "Label Counts: {0: 1005, 1: 974, 2: 1032, 3: 1016, 4: 999, 5: 937, 6: 1030, 7: 1001, 8: 1025, 9: 981}\n",
      "First 20 Labels: [6, 9, 9, 4, 1, 1, 2, 7, 8, 3, 4, 7, 7, 2, 9, 9, 9, 3, 2, 6]\n",
      "\n",
      "Example of Image 5:\n",
      "Image - Min Value: 0 Max Value: 252\n",
      "Image - Shape: (32, 32, 3)\n",
      "Label - Label Id: 1 Name: automobile\n"
     ]
    },
    {
     "data": {
      "image/png": "[encoded data removed]",
      "text/plain": [
       "<matplotlib.figure.Figure at 0x10f8b05f8>"
      ]
     },
     "metadata": {
      "image/png": {
       "height": 250,
       "width": 253
      }
     },
     "output_type": "display_data"
    }
   ],
   "source": [
    "%matplotlib inline\n",
    "%config InlineBackend.figure_format = 'retina'\n",
    "\n",
    "import helper\n",
    "import numpy as np\n",
    "\n",
    "# Explore the dataset\n",
    "batch_id = 1\n",
    "sample_id = 5\n",
    "helper.display_stats(cifar10_dataset_folder_path, batch_id, sample_id)"
   ]
  },
  {
   "cell_type": "markdown",
   "metadata": {
    "deletable": true,
    "editable": true
   },
   "source": [
    "## Implement Preprocess Functions\n",
    "### Normalize"
   ]
  },
  {
   "cell_type": "code",
   "execution_count": 5,
   "metadata": {
    "collapsed": false,
    "deletable": true,
    "editable": true
   },
   "outputs": [
    {
     "name": "stdout",
     "output_type": "stream",
     "text": [
      "Tests Passed\n"
     ]
    }
   ],
   "source": [
    "def normalize(x):\n",
    "    \"\"\"\n",
    "    Normalize a list of sample image data in the range of 0 to 1\n",
    "    : x: List of image data.  The image shape is (32, 32, 3)\n",
    "    : return: Numpy array of normalize data\n",
    "    \"\"\"\n",
    "    return (x - np.min(x)) / (255.0)\n",
    "\n",
    "tests.test_normalize(normalize)"
   ]
  },
  {
   "cell_type": "markdown",
   "metadata": {
    "deletable": true,
    "editable": true
   },
   "source": [
    "### One-hot encode"
   ]
  },
  {
   "cell_type": "code",
   "execution_count": 6,
   "metadata": {
    "collapsed": false,
    "deletable": true,
    "editable": true
   },
   "outputs": [
    {
     "name": "stdout",
     "output_type": "stream",
     "text": [
      "Tests Passed\n"
     ]
    }
   ],
   "source": [
    "def one_hot_encode(x):\n",
    "    \"\"\"\n",
    "    One hot encode a list of sample labels. Return a one-hot encoded vector for each label.\n",
    "    : x: List of sample Labels\n",
    "    : return: Numpy array of one-hot encoded labels\n",
    "    \"\"\"\n",
    "    return np.eye(10)[x]\n",
    "\n",
    "\n",
    "tests.test_one_hot_encode(one_hot_encode)"
   ]
  },
  {
   "cell_type": "markdown",
   "metadata": {
    "deletable": true,
    "editable": true
   },
   "source": [
    "## Preprocess all the data and save it\n",
    "Running the code cell below will preprocess all the CIFAR-10 data and save it to file. The code below also uses 10% of the training data for validation."
   ]
  },
  {
   "cell_type": "code",
   "execution_count": 7,
   "metadata": {
    "collapsed": false,
    "deletable": true,
    "editable": true
   },
   "outputs": [],
   "source": [
    "# Course Provided\n",
    "# Preprocess Training, Validation, and Testing Data\n",
    "helper.preprocess_and_save_data(cifar10_dataset_folder_path, normalize, one_hot_encode)"
   ]
  },
  {
   "cell_type": "code",
   "execution_count": 8,
   "metadata": {
    "collapsed": true,
    "deletable": true,
    "editable": true
   },
   "outputs": [],
   "source": [
    "import pickle\n",
    "import problem_unittests as tests\n",
    "import helper\n",
    "\n",
    "# Load the Preprocessed Validation data\n",
    "valid_features, valid_labels = pickle.load(open('preprocess_validation.p', mode='rb'))"
   ]
  },
  {
   "cell_type": "markdown",
   "metadata": {
    "deletable": true,
    "editable": true
   },
   "source": [
    "## Build the network\n",
    "\n",
    "### Input\n",
    "The neural network needs to read the image data, one-hot encoded labels, and dropout keep probability. Implement the following functions\n",
    "* Implement `neural_net_image_input`\n",
    " * Return a [TF Placeholder](https://www.tensorflow.org/api_docs/python/tf/placeholder)\n",
    " * Set the shape using `image_shape` with batch size set to `None`.\n",
    " * Name the TensorFlow placeholder \"x\" using the TensorFlow `name` parameter in the [TF Placeholder](https://www.tensorflow.org/api_docs/python/tf/placeholder).\n",
    "* Implement `neural_net_label_input`\n",
    " * Return a [TF Placeholder](https://www.tensorflow.org/api_docs/python/tf/placeholder)\n",
    " * Set the shape using `n_classes` with batch size set to `None`.\n",
    " * Name the TensorFlow placeholder \"y\" using the TensorFlow `name` parameter in the [TF Placeholder](https://www.tensorflow.org/api_docs/python/tf/placeholder).\n",
    "* Implement `neural_net_keep_prob_input`\n",
    " * Return a [TF Placeholder](https://www.tensorflow.org/api_docs/python/tf/placeholder) for dropout keep probability.\n",
    " * Name the TensorFlow placeholder \"keep_prob\" using the TensorFlow `name` parameter in the [TF Placeholder](https://www.tensorflow.org/api_docs/python/tf/placeholder)."
   ]
  },
  {
   "cell_type": "code",
   "execution_count": 9,
   "metadata": {
    "collapsed": false,
    "deletable": true,
    "editable": true
   },
   "outputs": [
    {
     "name": "stdout",
     "output_type": "stream",
     "text": [
      "Image Input Tests Passed.\n",
      "Label Input Tests Passed.\n",
      "Keep Prob Tests Passed.\n"
     ]
    }
   ],
   "source": [
    "import tensorflow as tf\n",
    "\n",
    "def neural_net_image_input(image_shape):\n",
    "    \"\"\"\n",
    "    Return a Tensor for a bach of image input\n",
    "    : image_shape: Shape of the images\n",
    "    : return: Tensor for image input.\n",
    "    \"\"\"\n",
    "    return tf.placeholder(tf.float32, [None, *image_shape], name='x')\n",
    "\n",
    "\n",
    "def neural_net_label_input(n_classes):\n",
    "    \"\"\"\n",
    "    Return a Tensor for a batch of label input\n",
    "    : n_classes: Number of classes\n",
    "    : return: Tensor for label input.\n",
    "    \"\"\"\n",
    "    return tf.placeholder(tf.float32, [None, n_classes], name='y')\n",
    "\n",
    "\n",
    "def neural_net_keep_prob_input():\n",
    "    \"\"\"\n",
    "    Return a Tensor for keep probability\n",
    "    : return: Tensor for keep probability.\n",
    "    \"\"\"\n",
    "    return tf.placeholder(tf.float32, name='keep_prob')\n",
    "\n",
    "\n",
    "tf.reset_default_graph()\n",
    "tests.test_nn_image_inputs(neural_net_image_input)\n",
    "tests.test_nn_label_inputs(neural_net_label_input)\n",
    "tests.test_nn_keep_prob_inputs(neural_net_keep_prob_input)"
   ]
  },
  {
   "cell_type": "markdown",
   "metadata": {
    "deletable": true,
    "editable": true
   },
   "source": [
    "### Convolution and Max Pooling Layer"
   ]
  },
  {
   "cell_type": "code",
   "execution_count": 10,
   "metadata": {
    "collapsed": false,
    "deletable": true,
    "editable": true
   },
   "outputs": [
    {
     "name": "stdout",
     "output_type": "stream",
     "text": [
      "Tests Passed\n"
     ]
    }
   ],
   "source": [
    "def conv2d_maxpool(x_tensor, conv_num_outputs, conv_ksize, conv_strides, pool_ksize, pool_strides):\n",
    "    \"\"\"\n",
    "    Apply convolution then max pooling to x_tensor\n",
    "    :param x_tensor: TensorFlow Tensor\n",
    "    :param conv_num_outputs: Number of outputs for the convolutional layer\n",
    "    :param conv_ksize: kernal size 2-D Tuple for the convolutional layer\n",
    "    :param conv_strides: Stride 2-D Tuple for convolution\n",
    "    :param pool_ksize: kernal size 2-D Tuple for pool\n",
    "    :param pool_strides: Stride 2-D Tuple for pool\n",
    "    : return: A tensor that represents convolution and max pooling of x_tensor\n",
    "    \"\"\"\n",
    "    # Convolutional Layer\n",
    "    # input depth\n",
    "    in_depth = int(x_tensor.get_shape()[3])\n",
    "    # filter depth\n",
    "    out_depth = conv_num_outputs\n",
    "    w_shape = [*conv_ksize, in_depth, out_depth]\n",
    "    w = tf.Variable(tf.random_normal(w_shape, stddev=0.1))\n",
    "    b = tf.Variable(tf.zeros(out_depth))\n",
    "    \n",
    "    # filter strides\n",
    "    conv_strides = [1, *conv_strides, 1]\n",
    "    x = tf.nn.conv2d(x_tensor, w, conv_strides, padding='SAME')\n",
    "    x = tf.nn.bias_add(x, b)\n",
    "    x = tf.nn.relu(x)\n",
    "    \n",
    "    # Max-Pool Layer\n",
    "    pool_ksize = [1, *pool_ksize, 1]\n",
    "    pool_strides = [1, *pool_strides, 1]\n",
    "    x = tf.nn.max_pool(x, pool_ksize, pool_strides, padding='SAME')\n",
    "    return x\n",
    "\n",
    "\n",
    "tests.test_con_pool(conv2d_maxpool)"
   ]
  },
  {
   "cell_type": "markdown",
   "metadata": {
    "deletable": true,
    "editable": true
   },
   "source": [
    "### Flatten Layer"
   ]
  },
  {
   "cell_type": "code",
   "execution_count": 11,
   "metadata": {
    "collapsed": false,
    "deletable": true,
    "editable": true
   },
   "outputs": [
    {
     "name": "stdout",
     "output_type": "stream",
     "text": [
      "Tests Passed\n"
     ]
    }
   ],
   "source": [
    "def flatten(x_tensor):\n",
    "    \"\"\"\n",
    "    Flatten x_tensor to (Batch Size, Flattened Image Size)\n",
    "    : x_tensor: A tensor of size (Batch Size, ...), where ... are the image dimensions.\n",
    "    : return: A tensor of size (Batch Size, Flattened Image Size).\n",
    "    \"\"\"\n",
    "    batch_size, *img_size = x_tensor.get_shape().as_list()\n",
    "    img_size = img_size[0] * img_size[1] * img_size[2]\n",
    "    return tf.reshape(x_tensor, [-1, img_size])\n",
    "\n",
    "\n",
    "tests.test_flatten(flatten)"
   ]
  },
  {
   "cell_type": "markdown",
   "metadata": {
    "deletable": true,
    "editable": true
   },
   "source": [
    "### Fully-Connected Layer\n",
    "Implement the `fully_conn` function to apply a fully connected layer to `x_tensor` with the shape (*Batch Size*, *num_outputs*). Shortcut option: you can use classes from the [TensorFlow Layers](https://www.tensorflow.org/api_docs/python/tf/layers) or [TensorFlow Layers (contrib)](https://www.tensorflow.org/api_guides/python/contrib.layers) packages for this layer. For more of a challenge, only use other TensorFlow packages."
   ]
  },
  {
   "cell_type": "code",
   "execution_count": 12,
   "metadata": {
    "collapsed": false,
    "deletable": true,
    "editable": true
   },
   "outputs": [
    {
     "name": "stdout",
     "output_type": "stream",
     "text": [
      "Tests Passed\n"
     ]
    }
   ],
   "source": [
    "def fully_conn(x_tensor, num_outputs):\n",
    "    \"\"\"\n",
    "    Apply a fully connected layer to x_tensor using weight and bias\n",
    "    : x_tensor: A 2-D tensor where the first dimension is batch size.\n",
    "    : num_outputs: The number of output that the new tensor should be.\n",
    "    : return: A 2-D tensor where the second dimension is num_outputs.\n",
    "    \"\"\"\n",
    "    w_shape = (int(x_tensor.get_shape().as_list()[1]), num_outputs)\n",
    "    w = tf.Variable(tf.random_normal(w_shape, stddev=0.1))\n",
    "    b = tf.Variable(tf.zeros(num_outputs))\n",
    "    x = tf.add(tf.matmul(x_tensor, w), b)\n",
    "    x = tf.nn.relu(x)\n",
    "    return x\n",
    "\n",
    "\n",
    "tests.test_fully_conn(fully_conn)"
   ]
  },
  {
   "cell_type": "markdown",
   "metadata": {
    "deletable": true,
    "editable": true
   },
   "source": [
    "### Output Layer"
   ]
  },
  {
   "cell_type": "code",
   "execution_count": 13,
   "metadata": {
    "collapsed": false,
    "deletable": true,
    "editable": true
   },
   "outputs": [
    {
     "name": "stdout",
     "output_type": "stream",
     "text": [
      "Tests Passed\n"
     ]
    }
   ],
   "source": [
    "def output(x_tensor, num_outputs):\n",
    "    \"\"\"\n",
    "    Apply a output layer to x_tensor using weight and bias\n",
    "    : x_tensor: A 2-D tensor where the first dimension is batch size.\n",
    "    : num_outputs: The number of output that the new tensor should be.\n",
    "    : return: A 2-D tensor where the second dimension is num_outputs.\n",
    "    \"\"\"\n",
    "    w_shape = [int(x_tensor.get_shape().as_list()[1]), num_outputs]\n",
    "    w = tf.Variable(tf.truncated_normal(w_shape))\n",
    "    b = tf.Variable(tf.zeros(num_outputs))\n",
    "    x = tf.add(tf.matmul(x_tensor, w), b)\n",
    "    return x\n",
    "\n",
    "tests.test_output(output)"
   ]
  },
  {
   "cell_type": "markdown",
   "metadata": {
    "deletable": true,
    "editable": true
   },
   "source": [
    "### Create Convolutional Model\n",
    "Create a convolutional neural network model. The function takes in a batch of images, `x`, and outputs logits.  "
   ]
  },
  {
   "cell_type": "code",
   "execution_count": 14,
   "metadata": {
    "collapsed": false,
    "deletable": true,
    "editable": true
   },
   "outputs": [
    {
     "name": "stdout",
     "output_type": "stream",
     "text": [
      "Neural Network Built!\n"
     ]
    }
   ],
   "source": [
    "def conv_net(x, keep_prob):\n",
    "    \"\"\"\n",
    "    Create a convolutional neural network model\n",
    "    : x: Placeholder tensor that holds image data.\n",
    "    : keep_prob: Placeholder tensor that hold dropout keep probability.\n",
    "    : return: Tensor that represents logits\n",
    "    \"\"\"\n",
    "    # conv2d_maxpool(x_tensor, conv_num_outputs, conv_ksize, conv_strides, pool_ksize, pool_strides)\n",
    "    x = conv2d_maxpool(x, 32, (3, 3), (1, 1), (2, 2), (2, 2))\n",
    "    x = conv2d_maxpool(x, 64, (3, 3), (2, 2), (2, 2), (2, 2))\n",
    "    x = conv2d_maxpool(x, 128, (3, 3), (1, 1), (2, 2), (2, 2))\n",
    "\n",
    "    # flatten(x_tensor)\n",
    "    x = flatten(x)\n",
    "\n",
    "    # fully_conn(x_tensor, num_outputs)\n",
    "    x = fully_conn(x, 512)\n",
    "    x = tf.nn.dropout(x, keep_prob)\n",
    "    x = fully_conn(x, 128)\n",
    "    x = tf.nn.dropout(x, keep_prob)\n",
    "    \n",
    "    # output(x_tensor, num_outputs)\n",
    "    out = output(x, 10)\n",
    "    \n",
    "    return out\n",
    "\n",
    "\n",
    "\n",
    "##############################\n",
    "## Build the Neural Network ##\n",
    "##############################\n",
    "\n",
    "# Remove previous weights, bias, inputs, etc..\n",
    "tf.reset_default_graph()\n",
    "\n",
    "# Inputs\n",
    "x = neural_net_image_input((32, 32, 3))\n",
    "y = neural_net_label_input(10)\n",
    "keep_prob = neural_net_keep_prob_input()\n",
    "\n",
    "# Model\n",
    "logits = conv_net(x, keep_prob)\n",
    "\n",
    "# Name logits Tensor, so that is can be loaded from disk after training\n",
    "logits = tf.identity(logits, name='logits')\n",
    "\n",
    "# Loss and Optimizer\n",
    "cost = tf.reduce_mean(tf.nn.softmax_cross_entropy_with_logits(logits=logits, labels=y))\n",
    "optimizer = tf.train.AdamOptimizer().minimize(cost)\n",
    "\n",
    "# Accuracy\n",
    "correct_pred = tf.equal(tf.argmax(logits, 1), tf.argmax(y, 1))\n",
    "accuracy = tf.reduce_mean(tf.cast(correct_pred, tf.float32), name='accuracy')\n",
    "\n",
    "tests.test_conv_net(conv_net)"
   ]
  },
  {
   "cell_type": "markdown",
   "metadata": {
    "deletable": true,
    "editable": true
   },
   "source": [
    "## Train the Neural Network\n",
    "### Single Optimization\n",
    "The function `train_neural_network` does a single optimization.  The optimization should use `optimizer` to optimize in `session` with a `feed_dict` of the following:\n",
    "* `x` for image input\n",
    "* `y` for labels\n",
    "* `keep_prob` for keep probability for dropout\n",
    "\n",
    "This function will be called for each batch, so `tf.global_variables_initializer()` has already been called."
   ]
  },
  {
   "cell_type": "code",
   "execution_count": 15,
   "metadata": {
    "collapsed": false,
    "deletable": true,
    "editable": true
   },
   "outputs": [
    {
     "name": "stdout",
     "output_type": "stream",
     "text": [
      "Tests Passed\n"
     ]
    }
   ],
   "source": [
    "def train_neural_network(session, optimizer, keep_probability, feature_batch, label_batch):\n",
    "    \"\"\"\n",
    "    Optimize the session on a batch of images and labels\n",
    "    : session: Current TensorFlow session\n",
    "    : optimizer: TensorFlow optimizer function\n",
    "    : keep_probability: keep probability\n",
    "    : feature_batch: Batch of Numpy image data\n",
    "    : label_batch: Batch of Numpy label data\n",
    "    \"\"\"\n",
    "    session.run(optimizer, feed_dict={\n",
    "        x: feature_batch,\n",
    "        y: label_batch,\n",
    "        keep_prob: keep_probability\n",
    "    })\n",
    "\n",
    "\n",
    "tests.test_train_nn(train_neural_network)"
   ]
  },
  {
   "cell_type": "markdown",
   "metadata": {
    "deletable": true,
    "editable": true
   },
   "source": [
    "### Show Stats\n",
    "The function `print_stats` prints loss and validation accuracy.  Use the global variables `valid_features` and `valid_labels` to calculate validation accuracy.  Use a keep probability of `1.0` to calculate the loss and validation accuracy."
   ]
  },
  {
   "cell_type": "code",
   "execution_count": 16,
   "metadata": {
    "collapsed": false,
    "deletable": true,
    "editable": true
   },
   "outputs": [],
   "source": [
    "def print_stats(session, feature_batch, label_batch, cost, accuracy):\n",
    "    \"\"\"\n",
    "    Print information about loss and validation accuracy\n",
    "    : session: Current TensorFlow session\n",
    "    : feature_batch: Batch of Numpy image data\n",
    "    : label_batch: Batch of Numpy label data\n",
    "    : cost: TensorFlow cost function\n",
    "    : accuracy: TensorFlow accuracy function\n",
    "    \"\"\"\n",
    "    loss = session.run(cost, feed_dict={\n",
    "        x: feature_batch,\n",
    "        y: label_batch,\n",
    "        keep_prob: 1.\n",
    "    })\n",
    "    \n",
    "    valid_accuracy = session.run(accuracy, feed_dict={\n",
    "        x: valid_features,\n",
    "        y: valid_labels,\n",
    "        keep_prob: 1.\n",
    "    })\n",
    "    \n",
    "    print('Loss: {:>10.4f} Validation Accuracy: {:.4f}'.format(loss, valid_accuracy))"
   ]
  },
  {
   "cell_type": "markdown",
   "metadata": {
    "deletable": true,
    "editable": true
   },
   "source": [
    "### Hyperparameters"
   ]
  },
  {
   "cell_type": "code",
   "execution_count": 17,
   "metadata": {
    "collapsed": true,
    "deletable": true,
    "editable": true
   },
   "outputs": [],
   "source": [
    "epochs = 50\n",
    "batch_size = 256\n",
    "keep_probability = 0.8"
   ]
  },
  {
   "cell_type": "markdown",
   "metadata": {
    "deletable": true,
    "editable": true
   },
   "source": [
    "### Train on a Single CIFAR-10 Batch\n",
    "Instead of training the neural network on all the CIFAR-10 batches of data, first use a single batch. Once the final validation accuracy is 50% or greater, we will run the model on all the data in the next section."
   ]
  },
  {
   "cell_type": "code",
   "execution_count": 18,
   "metadata": {
    "collapsed": false,
    "deletable": true,
    "editable": true
   },
   "outputs": [
    {
     "name": "stdout",
     "output_type": "stream",
     "text": [
      "Checking the Training on a Single Batch...\n",
      "Epoch  1, CIFAR-10 Batch 1:  Loss:     2.1780 Validation Accuracy: 0.1774\n",
      "Epoch  2, CIFAR-10 Batch 1:  Loss:     1.8713 Validation Accuracy: 0.2894\n",
      "Epoch  3, CIFAR-10 Batch 1:  Loss:     1.5813 Validation Accuracy: 0.3578\n",
      "Epoch  4, CIFAR-10 Batch 1:  Loss:     1.3447 Validation Accuracy: 0.4068\n",
      "Epoch  5, CIFAR-10 Batch 1:  Loss:     1.1335 Validation Accuracy: 0.4346\n",
      "Epoch  6, CIFAR-10 Batch 1:  Loss:     0.9965 Validation Accuracy: 0.4442\n",
      "Epoch  7, CIFAR-10 Batch 1:  Loss:     0.8809 Validation Accuracy: 0.4604\n",
      "Epoch  8, CIFAR-10 Batch 1:  Loss:     0.6924 Validation Accuracy: 0.4816\n",
      "Epoch  9, CIFAR-10 Batch 1:  Loss:     0.6068 Validation Accuracy: 0.4796\n",
      "Epoch 10, CIFAR-10 Batch 1:  Loss:     0.4794 Validation Accuracy: 0.5032\n",
      "Epoch 11, CIFAR-10 Batch 1:  Loss:     0.3769 Validation Accuracy: 0.5128\n",
      "Epoch 12, CIFAR-10 Batch 1:  Loss:     0.3324 Validation Accuracy: 0.5192\n",
      "Epoch 13, CIFAR-10 Batch 1:  Loss:     0.2881 Validation Accuracy: 0.5314\n",
      "Epoch 14, CIFAR-10 Batch 1:  Loss:     0.2129 Validation Accuracy: 0.5290\n",
      "Epoch 15, CIFAR-10 Batch 1:  Loss:     0.1965 Validation Accuracy: 0.5204\n",
      "Epoch 16, CIFAR-10 Batch 1:  Loss:     0.1463 Validation Accuracy: 0.5430\n",
      "Epoch 17, CIFAR-10 Batch 1:  Loss:     0.1252 Validation Accuracy: 0.5290\n",
      "Epoch 18, CIFAR-10 Batch 1:  Loss:     0.1339 Validation Accuracy: 0.5298\n",
      "Epoch 19, CIFAR-10 Batch 1:  Loss:     0.0869 Validation Accuracy: 0.5330\n",
      "Epoch 20, CIFAR-10 Batch 1:  Loss:     0.0840 Validation Accuracy: 0.5342\n",
      "Epoch 21, CIFAR-10 Batch 1:  Loss:     0.0869 Validation Accuracy: 0.5228\n",
      "Epoch 22, CIFAR-10 Batch 1:  Loss:     0.0691 Validation Accuracy: 0.5188\n",
      "Epoch 23, CIFAR-10 Batch 1:  Loss:     0.0340 Validation Accuracy: 0.5398\n",
      "Epoch 24, CIFAR-10 Batch 1:  Loss:     0.0408 Validation Accuracy: 0.5410\n",
      "Epoch 25, CIFAR-10 Batch 1:  Loss:     0.0369 Validation Accuracy: 0.5266\n",
      "Epoch 26, CIFAR-10 Batch 1:  Loss:     0.0275 Validation Accuracy: 0.5474\n",
      "Epoch 27, CIFAR-10 Batch 1:  Loss:     0.0210 Validation Accuracy: 0.5422\n",
      "Epoch 28, CIFAR-10 Batch 1:  Loss:     0.0289 Validation Accuracy: 0.5172\n",
      "Epoch 29, CIFAR-10 Batch 1:  Loss:     0.0208 Validation Accuracy: 0.5250\n",
      "Epoch 30, CIFAR-10 Batch 1:  Loss:     0.0189 Validation Accuracy: 0.5156\n",
      "Epoch 31, CIFAR-10 Batch 1:  Loss:     0.0226 Validation Accuracy: 0.4880\n",
      "Epoch 32, CIFAR-10 Batch 1:  Loss:     0.0126 Validation Accuracy: 0.5348\n",
      "Epoch 33, CIFAR-10 Batch 1:  Loss:     0.0115 Validation Accuracy: 0.5338\n",
      "Epoch 34, CIFAR-10 Batch 1:  Loss:     0.0081 Validation Accuracy: 0.5136\n",
      "Epoch 35, CIFAR-10 Batch 1:  Loss:     0.0096 Validation Accuracy: 0.5300\n",
      "Epoch 36, CIFAR-10 Batch 1:  Loss:     0.0185 Validation Accuracy: 0.4972\n",
      "Epoch 37, CIFAR-10 Batch 1:  Loss:     0.0056 Validation Accuracy: 0.5418\n",
      "Epoch 38, CIFAR-10 Batch 1:  Loss:     0.0083 Validation Accuracy: 0.5434\n",
      "Epoch 39, CIFAR-10 Batch 1:  Loss:     0.0024 Validation Accuracy: 0.5320\n",
      "Epoch 40, CIFAR-10 Batch 1:  Loss:     0.0018 Validation Accuracy: 0.5406\n",
      "Epoch 41, CIFAR-10 Batch 1:  Loss:     0.0015 Validation Accuracy: 0.5254\n",
      "Epoch 42, CIFAR-10 Batch 1:  Loss:     0.0021 Validation Accuracy: 0.5372\n",
      "Epoch 43, CIFAR-10 Batch 1:  Loss:     0.0052 Validation Accuracy: 0.5198\n",
      "Epoch 44, CIFAR-10 Batch 1:  Loss:     0.0019 Validation Accuracy: 0.5344\n",
      "Epoch 45, CIFAR-10 Batch 1:  Loss:     0.0034 Validation Accuracy: 0.5310\n",
      "Epoch 46, CIFAR-10 Batch 1:  Loss:     0.0016 Validation Accuracy: 0.5274\n",
      "Epoch 47, CIFAR-10 Batch 1:  Loss:     0.0072 Validation Accuracy: 0.5348\n",
      "Epoch 48, CIFAR-10 Batch 1:  Loss:     0.0029 Validation Accuracy: 0.5186\n",
      "Epoch 49, CIFAR-10 Batch 1:  Loss:     0.0011 Validation Accuracy: 0.5276\n",
      "Epoch 50, CIFAR-10 Batch 1:  Loss:     0.0010 Validation Accuracy: 0.5350\n"
     ]
    }
   ],
   "source": [
    "print('Checking the Training on a Single Batch...')\n",
    "with tf.Session() as sess:\n",
    "    # Initializing the variables\n",
    "    sess.run(tf.global_variables_initializer())\n",
    "    \n",
    "    # Training cycle\n",
    "    for epoch in range(epochs):\n",
    "        batch_i = 1\n",
    "        for batch_features, batch_labels in helper.load_preprocess_training_batch(batch_i, batch_size):\n",
    "            train_neural_network(sess, optimizer, keep_probability, batch_features, batch_labels)\n",
    "        print('Epoch {:>2}, CIFAR-10 Batch {}:  '.format(epoch + 1, batch_i), end='')\n",
    "        print_stats(sess, batch_features, batch_labels, cost, accuracy)"
   ]
  },
  {
   "cell_type": "markdown",
   "metadata": {
    "deletable": true,
    "editable": true
   },
   "source": [
    "### Fully Train the Model"
   ]
  },
  {
   "cell_type": "code",
   "execution_count": 19,
   "metadata": {
    "collapsed": false,
    "deletable": true,
    "editable": true
   },
   "outputs": [
    {
     "name": "stdout",
     "output_type": "stream",
     "text": [
      "Training...\n",
      "Epoch  1, CIFAR-10 Batch 1:  Loss:     2.2426 Validation Accuracy: 0.2052\n",
      "Epoch  1, CIFAR-10 Batch 2:  Loss:     1.9832 Validation Accuracy: 0.3074\n",
      "Epoch  1, CIFAR-10 Batch 3:  Loss:     1.6260 Validation Accuracy: 0.3594\n",
      "Epoch  1, CIFAR-10 Batch 4:  Loss:     1.5553 Validation Accuracy: 0.4106\n",
      "Epoch  1, CIFAR-10 Batch 5:  Loss:     1.5248 Validation Accuracy: 0.4352\n",
      "Epoch  2, CIFAR-10 Batch 1:  Loss:     1.6715 Validation Accuracy: 0.4300\n",
      "Epoch  2, CIFAR-10 Batch 2:  Loss:     1.4195 Validation Accuracy: 0.4540\n",
      "Epoch  2, CIFAR-10 Batch 3:  Loss:     1.1421 Validation Accuracy: 0.4718\n",
      "Epoch  2, CIFAR-10 Batch 4:  Loss:     1.1246 Validation Accuracy: 0.4880\n",
      "Epoch  2, CIFAR-10 Batch 5:  Loss:     1.2045 Validation Accuracy: 0.5030\n",
      "Epoch  3, CIFAR-10 Batch 1:  Loss:     1.2738 Validation Accuracy: 0.5078\n",
      "Epoch  3, CIFAR-10 Batch 2:  Loss:     1.1179 Validation Accuracy: 0.5194\n",
      "Epoch  3, CIFAR-10 Batch 3:  Loss:     0.9692 Validation Accuracy: 0.5262\n",
      "Epoch  3, CIFAR-10 Batch 4:  Loss:     1.0115 Validation Accuracy: 0.5266\n",
      "Epoch  3, CIFAR-10 Batch 5:  Loss:     0.9966 Validation Accuracy: 0.5288\n",
      "Epoch  4, CIFAR-10 Batch 1:  Loss:     1.0626 Validation Accuracy: 0.5432\n",
      "Epoch  4, CIFAR-10 Batch 2:  Loss:     0.9262 Validation Accuracy: 0.5098\n",
      "Epoch  4, CIFAR-10 Batch 3:  Loss:     0.7267 Validation Accuracy: 0.5430\n",
      "Epoch  4, CIFAR-10 Batch 4:  Loss:     0.7874 Validation Accuracy: 0.5642\n",
      "Epoch  4, CIFAR-10 Batch 5:  Loss:     0.8312 Validation Accuracy: 0.5670\n",
      "Epoch  5, CIFAR-10 Batch 1:  Loss:     0.9002 Validation Accuracy: 0.5628\n",
      "Epoch  5, CIFAR-10 Batch 2:  Loss:     0.7196 Validation Accuracy: 0.5718\n",
      "Epoch  5, CIFAR-10 Batch 3:  Loss:     0.6427 Validation Accuracy: 0.5586\n",
      "Epoch  5, CIFAR-10 Batch 4:  Loss:     0.6899 Validation Accuracy: 0.5694\n",
      "Epoch  5, CIFAR-10 Batch 5:  Loss:     0.6925 Validation Accuracy: 0.5812\n",
      "Epoch  6, CIFAR-10 Batch 1:  Loss:     0.7780 Validation Accuracy: 0.5728\n",
      "Epoch  6, CIFAR-10 Batch 2:  Loss:     0.6295 Validation Accuracy: 0.5730\n",
      "Epoch  6, CIFAR-10 Batch 3:  Loss:     0.4895 Validation Accuracy: 0.5708\n",
      "Epoch  6, CIFAR-10 Batch 4:  Loss:     0.5284 Validation Accuracy: 0.5910\n",
      "Epoch  6, CIFAR-10 Batch 5:  Loss:     0.5993 Validation Accuracy: 0.5960\n",
      "Epoch  7, CIFAR-10 Batch 1:  Loss:     0.6375 Validation Accuracy: 0.5872\n",
      "Epoch  7, CIFAR-10 Batch 2:  Loss:     0.4903 Validation Accuracy: 0.5854\n",
      "Epoch  7, CIFAR-10 Batch 3:  Loss:     0.3889 Validation Accuracy: 0.5946\n",
      "Epoch  7, CIFAR-10 Batch 4:  Loss:     0.3947 Validation Accuracy: 0.6044\n",
      "Epoch  7, CIFAR-10 Batch 5:  Loss:     0.3939 Validation Accuracy: 0.6140\n",
      "Epoch  8, CIFAR-10 Batch 1:  Loss:     0.5362 Validation Accuracy: 0.6088\n",
      "Epoch  8, CIFAR-10 Batch 2:  Loss:     0.3807 Validation Accuracy: 0.6008\n",
      "Epoch  8, CIFAR-10 Batch 3:  Loss:     0.2706 Validation Accuracy: 0.6074\n",
      "Epoch  8, CIFAR-10 Batch 4:  Loss:     0.3717 Validation Accuracy: 0.6066\n",
      "Epoch  8, CIFAR-10 Batch 5:  Loss:     0.3661 Validation Accuracy: 0.6124\n",
      "Epoch  9, CIFAR-10 Batch 1:  Loss:     0.4435 Validation Accuracy: 0.6230\n",
      "Epoch  9, CIFAR-10 Batch 2:  Loss:     0.3065 Validation Accuracy: 0.6138\n",
      "Epoch  9, CIFAR-10 Batch 3:  Loss:     0.2431 Validation Accuracy: 0.6106\n",
      "Epoch  9, CIFAR-10 Batch 4:  Loss:     0.2799 Validation Accuracy: 0.6232\n",
      "Epoch  9, CIFAR-10 Batch 5:  Loss:     0.3060 Validation Accuracy: 0.6186\n",
      "Epoch 10, CIFAR-10 Batch 1:  Loss:     0.3070 Validation Accuracy: 0.6238\n",
      "Epoch 10, CIFAR-10 Batch 2:  Loss:     0.2740 Validation Accuracy: 0.6268\n",
      "Epoch 10, CIFAR-10 Batch 3:  Loss:     0.1848 Validation Accuracy: 0.6238\n",
      "Epoch 10, CIFAR-10 Batch 4:  Loss:     0.2261 Validation Accuracy: 0.6208\n",
      "Epoch 10, CIFAR-10 Batch 5:  Loss:     0.2303 Validation Accuracy: 0.6292\n",
      "Epoch 11, CIFAR-10 Batch 1:  Loss:     0.2654 Validation Accuracy: 0.6272\n",
      "Epoch 11, CIFAR-10 Batch 2:  Loss:     0.1929 Validation Accuracy: 0.6348\n",
      "Epoch 11, CIFAR-10 Batch 3:  Loss:     0.1576 Validation Accuracy: 0.6298\n",
      "Epoch 11, CIFAR-10 Batch 4:  Loss:     0.1615 Validation Accuracy: 0.6334\n",
      "Epoch 11, CIFAR-10 Batch 5:  Loss:     0.2027 Validation Accuracy: 0.6310\n",
      "Epoch 12, CIFAR-10 Batch 1:  Loss:     0.2192 Validation Accuracy: 0.6336\n",
      "Epoch 12, CIFAR-10 Batch 2:  Loss:     0.1405 Validation Accuracy: 0.6350\n",
      "Epoch 12, CIFAR-10 Batch 3:  Loss:     0.1524 Validation Accuracy: 0.6156\n",
      "Epoch 12, CIFAR-10 Batch 4:  Loss:     0.1314 Validation Accuracy: 0.6320\n",
      "Epoch 12, CIFAR-10 Batch 5:  Loss:     0.1645 Validation Accuracy: 0.6198\n",
      "Epoch 13, CIFAR-10 Batch 1:  Loss:     0.1812 Validation Accuracy: 0.6376\n",
      "Epoch 13, CIFAR-10 Batch 2:  Loss:     0.1301 Validation Accuracy: 0.6414\n",
      "Epoch 13, CIFAR-10 Batch 3:  Loss:     0.1001 Validation Accuracy: 0.6198\n",
      "Epoch 13, CIFAR-10 Batch 4:  Loss:     0.1127 Validation Accuracy: 0.6364\n",
      "Epoch 13, CIFAR-10 Batch 5:  Loss:     0.1267 Validation Accuracy: 0.6166\n",
      "Epoch 14, CIFAR-10 Batch 1:  Loss:     0.1711 Validation Accuracy: 0.6066\n",
      "Epoch 14, CIFAR-10 Batch 2:  Loss:     0.0874 Validation Accuracy: 0.6418\n",
      "Epoch 14, CIFAR-10 Batch 3:  Loss:     0.1008 Validation Accuracy: 0.6004\n",
      "Epoch 14, CIFAR-10 Batch 4:  Loss:     0.0942 Validation Accuracy: 0.6314\n",
      "Epoch 14, CIFAR-10 Batch 5:  Loss:     0.1057 Validation Accuracy: 0.6312\n",
      "Epoch 15, CIFAR-10 Batch 1:  Loss:     0.1084 Validation Accuracy: 0.6198\n",
      "Epoch 15, CIFAR-10 Batch 2:  Loss:     0.0861 Validation Accuracy: 0.6274\n",
      "Epoch 15, CIFAR-10 Batch 3:  Loss:     0.0585 Validation Accuracy: 0.6260\n",
      "Epoch 15, CIFAR-10 Batch 4:  Loss:     0.0826 Validation Accuracy: 0.6302\n",
      "Epoch 15, CIFAR-10 Batch 5:  Loss:     0.0930 Validation Accuracy: 0.6298\n",
      "Epoch 16, CIFAR-10 Batch 1:  Loss:     0.0955 Validation Accuracy: 0.6292\n",
      "Epoch 16, CIFAR-10 Batch 2:  Loss:     0.0626 Validation Accuracy: 0.6370\n",
      "Epoch 16, CIFAR-10 Batch 3:  Loss:     0.0819 Validation Accuracy: 0.6030\n",
      "Epoch 16, CIFAR-10 Batch 4:  Loss:     0.0762 Validation Accuracy: 0.6510\n",
      "Epoch 16, CIFAR-10 Batch 5:  Loss:     0.0992 Validation Accuracy: 0.6298\n",
      "Epoch 17, CIFAR-10 Batch 1:  Loss:     0.0814 Validation Accuracy: 0.6362\n",
      "Epoch 17, CIFAR-10 Batch 2:  Loss:     0.0649 Validation Accuracy: 0.6152\n",
      "Epoch 17, CIFAR-10 Batch 3:  Loss:     0.0479 Validation Accuracy: 0.6254\n",
      "Epoch 17, CIFAR-10 Batch 4:  Loss:     0.0753 Validation Accuracy: 0.6378\n",
      "Epoch 17, CIFAR-10 Batch 5:  Loss:     0.0876 Validation Accuracy: 0.6398\n",
      "Epoch 18, CIFAR-10 Batch 1:  Loss:     0.0630 Validation Accuracy: 0.6348\n",
      "Epoch 18, CIFAR-10 Batch 2:  Loss:     0.0444 Validation Accuracy: 0.6206\n",
      "Epoch 18, CIFAR-10 Batch 3:  Loss:     0.0422 Validation Accuracy: 0.6506\n",
      "Epoch 18, CIFAR-10 Batch 4:  Loss:     0.0509 Validation Accuracy: 0.6338\n",
      "Epoch 18, CIFAR-10 Batch 5:  Loss:     0.0623 Validation Accuracy: 0.6462\n",
      "Epoch 19, CIFAR-10 Batch 1:  Loss:     0.0675 Validation Accuracy: 0.6364\n",
      "Epoch 19, CIFAR-10 Batch 2:  Loss:     0.0511 Validation Accuracy: 0.6056\n",
      "Epoch 19, CIFAR-10 Batch 3:  Loss:     0.0535 Validation Accuracy: 0.6338\n",
      "Epoch 19, CIFAR-10 Batch 4:  Loss:     0.0490 Validation Accuracy: 0.6422\n",
      "Epoch 19, CIFAR-10 Batch 5:  Loss:     0.0500 Validation Accuracy: 0.6408\n",
      "Epoch 20, CIFAR-10 Batch 1:  Loss:     0.0657 Validation Accuracy: 0.6518\n",
      "Epoch 20, CIFAR-10 Batch 2:  Loss:     0.0512 Validation Accuracy: 0.6368\n",
      "Epoch 20, CIFAR-10 Batch 3:  Loss:     0.0375 Validation Accuracy: 0.6380\n",
      "Epoch 20, CIFAR-10 Batch 4:  Loss:     0.0478 Validation Accuracy: 0.6432\n",
      "Epoch 20, CIFAR-10 Batch 5:  Loss:     0.0464 Validation Accuracy: 0.6474\n",
      "Epoch 21, CIFAR-10 Batch 1:  Loss:     0.0612 Validation Accuracy: 0.6422\n",
      "Epoch 21, CIFAR-10 Batch 2:  Loss:     0.0245 Validation Accuracy: 0.6480\n",
      "Epoch 21, CIFAR-10 Batch 3:  Loss:     0.0252 Validation Accuracy: 0.6426\n",
      "Epoch 21, CIFAR-10 Batch 4:  Loss:     0.0393 Validation Accuracy: 0.6420\n",
      "Epoch 21, CIFAR-10 Batch 5:  Loss:     0.0280 Validation Accuracy: 0.6488\n",
      "Epoch 22, CIFAR-10 Batch 1:  Loss:     0.0728 Validation Accuracy: 0.6416\n",
      "Epoch 22, CIFAR-10 Batch 2:  Loss:     0.0455 Validation Accuracy: 0.6302\n",
      "Epoch 22, CIFAR-10 Batch 3:  Loss:     0.0370 Validation Accuracy: 0.6400\n",
      "Epoch 22, CIFAR-10 Batch 4:  Loss:     0.0319 Validation Accuracy: 0.6378\n",
      "Epoch 22, CIFAR-10 Batch 5:  Loss:     0.0239 Validation Accuracy: 0.6544\n",
      "Epoch 23, CIFAR-10 Batch 1:  Loss:     0.0494 Validation Accuracy: 0.6276\n",
      "Epoch 23, CIFAR-10 Batch 2:  Loss:     0.0223 Validation Accuracy: 0.6370\n",
      "Epoch 23, CIFAR-10 Batch 3:  Loss:     0.0221 Validation Accuracy: 0.6450\n",
      "Epoch 23, CIFAR-10 Batch 4:  Loss:     0.0265 Validation Accuracy: 0.6558\n",
      "Epoch 23, CIFAR-10 Batch 5:  Loss:     0.0377 Validation Accuracy: 0.6302\n",
      "Epoch 24, CIFAR-10 Batch 1:  Loss:     0.0456 Validation Accuracy: 0.6266\n",
      "Epoch 24, CIFAR-10 Batch 2:  Loss:     0.0235 Validation Accuracy: 0.6310\n",
      "Epoch 24, CIFAR-10 Batch 3:  Loss:     0.0175 Validation Accuracy: 0.6488\n",
      "Epoch 24, CIFAR-10 Batch 4:  Loss:     0.0200 Validation Accuracy: 0.6502\n",
      "Epoch 24, CIFAR-10 Batch 5:  Loss:     0.0358 Validation Accuracy: 0.6394\n",
      "Epoch 25, CIFAR-10 Batch 1:  Loss:     0.0353 Validation Accuracy: 0.6302\n",
      "Epoch 25, CIFAR-10 Batch 2:  Loss:     0.0171 Validation Accuracy: 0.6248\n",
      "Epoch 25, CIFAR-10 Batch 3:  Loss:     0.0144 Validation Accuracy: 0.6488\n",
      "Epoch 25, CIFAR-10 Batch 4:  Loss:     0.0269 Validation Accuracy: 0.6472\n",
      "Epoch 25, CIFAR-10 Batch 5:  Loss:     0.0412 Validation Accuracy: 0.6446\n",
      "Epoch 26, CIFAR-10 Batch 1:  Loss:     0.0310 Validation Accuracy: 0.6490\n",
      "Epoch 26, CIFAR-10 Batch 2:  Loss:     0.0211 Validation Accuracy: 0.6140\n",
      "Epoch 26, CIFAR-10 Batch 3:  Loss:     0.0176 Validation Accuracy: 0.6424\n",
      "Epoch 26, CIFAR-10 Batch 4:  Loss:     0.0272 Validation Accuracy: 0.6458\n",
      "Epoch 26, CIFAR-10 Batch 5:  Loss:     0.0228 Validation Accuracy: 0.6444\n",
      "Epoch 27, CIFAR-10 Batch 1:  Loss:     0.0187 Validation Accuracy: 0.6384\n",
      "Epoch 27, CIFAR-10 Batch 2:  Loss:     0.0057 Validation Accuracy: 0.6372\n",
      "Epoch 27, CIFAR-10 Batch 3:  Loss:     0.0145 Validation Accuracy: 0.6224\n",
      "Epoch 27, CIFAR-10 Batch 4:  Loss:     0.0323 Validation Accuracy: 0.6224\n",
      "Epoch 27, CIFAR-10 Batch 5:  Loss:     0.0320 Validation Accuracy: 0.6408\n",
      "Epoch 28, CIFAR-10 Batch 1:  Loss:     0.0249 Validation Accuracy: 0.6344\n",
      "Epoch 28, CIFAR-10 Batch 2:  Loss:     0.0131 Validation Accuracy: 0.6318\n",
      "Epoch 28, CIFAR-10 Batch 3:  Loss:     0.0136 Validation Accuracy: 0.6384\n",
      "Epoch 28, CIFAR-10 Batch 4:  Loss:     0.0100 Validation Accuracy: 0.6260\n",
      "Epoch 28, CIFAR-10 Batch 5:  Loss:     0.0166 Validation Accuracy: 0.6476\n",
      "Epoch 29, CIFAR-10 Batch 1:  Loss:     0.0175 Validation Accuracy: 0.6336\n",
      "Epoch 29, CIFAR-10 Batch 2:  Loss:     0.0054 Validation Accuracy: 0.6472\n",
      "Epoch 29, CIFAR-10 Batch 3:  Loss:     0.0083 Validation Accuracy: 0.6480\n",
      "Epoch 29, CIFAR-10 Batch 4:  Loss:     0.0080 Validation Accuracy: 0.6342\n",
      "Epoch 29, CIFAR-10 Batch 5:  Loss:     0.0122 Validation Accuracy: 0.6584\n",
      "Epoch 30, CIFAR-10 Batch 1:  Loss:     0.0148 Validation Accuracy: 0.6406\n",
      "Epoch 30, CIFAR-10 Batch 2:  Loss:     0.0044 Validation Accuracy: 0.6516\n",
      "Epoch 30, CIFAR-10 Batch 3:  Loss:     0.0047 Validation Accuracy: 0.6454\n",
      "Epoch 30, CIFAR-10 Batch 4:  Loss:     0.0134 Validation Accuracy: 0.6290\n",
      "Epoch 30, CIFAR-10 Batch 5:  Loss:     0.0072 Validation Accuracy: 0.6566\n",
      "Epoch 31, CIFAR-10 Batch 1:  Loss:     0.0057 Validation Accuracy: 0.6432\n",
      "Epoch 31, CIFAR-10 Batch 2:  Loss:     0.0052 Validation Accuracy: 0.6496\n",
      "Epoch 31, CIFAR-10 Batch 3:  Loss:     0.0076 Validation Accuracy: 0.6410\n",
      "Epoch 31, CIFAR-10 Batch 4:  Loss:     0.0071 Validation Accuracy: 0.6526\n",
      "Epoch 31, CIFAR-10 Batch 5:  Loss:     0.0053 Validation Accuracy: 0.6496\n",
      "Epoch 32, CIFAR-10 Batch 1:  Loss:     0.0083 Validation Accuracy: 0.6358\n",
      "Epoch 32, CIFAR-10 Batch 2:  Loss:     0.0040 Validation Accuracy: 0.6476\n",
      "Epoch 32, CIFAR-10 Batch 3:  Loss:     0.0062 Validation Accuracy: 0.6494\n",
      "Epoch 32, CIFAR-10 Batch 4:  Loss:     0.0028 Validation Accuracy: 0.6504\n",
      "Epoch 32, CIFAR-10 Batch 5:  Loss:     0.0057 Validation Accuracy: 0.6544\n",
      "Epoch 33, CIFAR-10 Batch 1:  Loss:     0.0124 Validation Accuracy: 0.6324\n",
      "Epoch 33, CIFAR-10 Batch 2:  Loss:     0.0075 Validation Accuracy: 0.6490\n",
      "Epoch 33, CIFAR-10 Batch 3:  Loss:     0.0051 Validation Accuracy: 0.6414\n",
      "Epoch 33, CIFAR-10 Batch 4:  Loss:     0.0037 Validation Accuracy: 0.6544\n",
      "Epoch 33, CIFAR-10 Batch 5:  Loss:     0.0059 Validation Accuracy: 0.6396\n",
      "Epoch 34, CIFAR-10 Batch 1:  Loss:     0.0140 Validation Accuracy: 0.6376\n",
      "Epoch 34, CIFAR-10 Batch 2:  Loss:     0.0046 Validation Accuracy: 0.6426\n",
      "Epoch 34, CIFAR-10 Batch 3:  Loss:     0.0050 Validation Accuracy: 0.6342\n",
      "Epoch 34, CIFAR-10 Batch 4:  Loss:     0.0023 Validation Accuracy: 0.6556\n",
      "Epoch 34, CIFAR-10 Batch 5:  Loss:     0.0038 Validation Accuracy: 0.6364\n",
      "Epoch 35, CIFAR-10 Batch 1:  Loss:     0.0092 Validation Accuracy: 0.6364\n",
      "Epoch 35, CIFAR-10 Batch 2:  Loss:     0.0047 Validation Accuracy: 0.6418\n",
      "Epoch 35, CIFAR-10 Batch 3:  Loss:     0.0039 Validation Accuracy: 0.6238\n",
      "Epoch 35, CIFAR-10 Batch 4:  Loss:     0.0020 Validation Accuracy: 0.6506\n",
      "Epoch 35, CIFAR-10 Batch 5:  Loss:     0.0051 Validation Accuracy: 0.6400\n",
      "Epoch 36, CIFAR-10 Batch 1:  Loss:     0.0064 Validation Accuracy: 0.6282\n",
      "Epoch 36, CIFAR-10 Batch 2:  Loss:     0.0071 Validation Accuracy: 0.6424\n",
      "Epoch 36, CIFAR-10 Batch 3:  Loss:     0.0040 Validation Accuracy: 0.6216\n",
      "Epoch 36, CIFAR-10 Batch 4:  Loss:     0.0030 Validation Accuracy: 0.6608\n",
      "Epoch 36, CIFAR-10 Batch 5:  Loss:     0.0028 Validation Accuracy: 0.6150\n",
      "Epoch 37, CIFAR-10 Batch 1:  Loss:     0.0090 Validation Accuracy: 0.6226\n",
      "Epoch 37, CIFAR-10 Batch 2:  Loss:     0.0086 Validation Accuracy: 0.6434\n",
      "Epoch 37, CIFAR-10 Batch 3:  Loss:     0.0034 Validation Accuracy: 0.6322\n",
      "Epoch 37, CIFAR-10 Batch 4:  Loss:     0.0043 Validation Accuracy: 0.6542\n",
      "Epoch 37, CIFAR-10 Batch 5:  Loss:     0.0057 Validation Accuracy: 0.6352\n",
      "Epoch 38, CIFAR-10 Batch 1:  Loss:     0.0044 Validation Accuracy: 0.6330\n",
      "Epoch 38, CIFAR-10 Batch 2:  Loss:     0.0156 Validation Accuracy: 0.6340\n",
      "Epoch 38, CIFAR-10 Batch 3:  Loss:     0.0084 Validation Accuracy: 0.6308\n",
      "Epoch 38, CIFAR-10 Batch 4:  Loss:     0.0053 Validation Accuracy: 0.6514\n",
      "Epoch 38, CIFAR-10 Batch 5:  Loss:     0.0027 Validation Accuracy: 0.6286\n",
      "Epoch 39, CIFAR-10 Batch 1:  Loss:     0.0079 Validation Accuracy: 0.6512\n",
      "Epoch 39, CIFAR-10 Batch 2:  Loss:     0.0037 Validation Accuracy: 0.6316\n",
      "Epoch 39, CIFAR-10 Batch 3:  Loss:     0.0045 Validation Accuracy: 0.6324\n",
      "Epoch 39, CIFAR-10 Batch 4:  Loss:     0.0062 Validation Accuracy: 0.6474\n",
      "Epoch 39, CIFAR-10 Batch 5:  Loss:     0.0066 Validation Accuracy: 0.6544\n",
      "Epoch 40, CIFAR-10 Batch 1:  Loss:     0.0070 Validation Accuracy: 0.6376\n",
      "Epoch 40, CIFAR-10 Batch 2:  Loss:     0.0093 Validation Accuracy: 0.6392\n",
      "Epoch 40, CIFAR-10 Batch 3:  Loss:     0.0043 Validation Accuracy: 0.6382\n",
      "Epoch 40, CIFAR-10 Batch 4:  Loss:     0.0124 Validation Accuracy: 0.6460\n",
      "Epoch 40, CIFAR-10 Batch 5:  Loss:     0.0027 Validation Accuracy: 0.6538\n",
      "Epoch 41, CIFAR-10 Batch 1:  Loss:     0.0040 Validation Accuracy: 0.6432\n",
      "Epoch 41, CIFAR-10 Batch 2:  Loss:     0.0016 Validation Accuracy: 0.6450\n",
      "Epoch 41, CIFAR-10 Batch 3:  Loss:     0.0029 Validation Accuracy: 0.6388\n",
      "Epoch 41, CIFAR-10 Batch 4:  Loss:     0.0025 Validation Accuracy: 0.6514\n",
      "Epoch 41, CIFAR-10 Batch 5:  Loss:     0.0018 Validation Accuracy: 0.6504\n",
      "Epoch 42, CIFAR-10 Batch 1:  Loss:     0.0041 Validation Accuracy: 0.6498\n",
      "Epoch 42, CIFAR-10 Batch 2:  Loss:     0.0031 Validation Accuracy: 0.6250\n",
      "Epoch 42, CIFAR-10 Batch 3:  Loss:     0.0008 Validation Accuracy: 0.6494\n",
      "Epoch 42, CIFAR-10 Batch 4:  Loss:     0.0036 Validation Accuracy: 0.6490\n",
      "Epoch 42, CIFAR-10 Batch 5:  Loss:     0.0151 Validation Accuracy: 0.6474\n",
      "Epoch 43, CIFAR-10 Batch 1:  Loss:     0.0063 Validation Accuracy: 0.6492\n",
      "Epoch 43, CIFAR-10 Batch 2:  Loss:     0.0020 Validation Accuracy: 0.6406\n",
      "Epoch 43, CIFAR-10 Batch 3:  Loss:     0.0017 Validation Accuracy: 0.6456\n",
      "Epoch 43, CIFAR-10 Batch 4:  Loss:     0.0033 Validation Accuracy: 0.6388\n",
      "Epoch 43, CIFAR-10 Batch 5:  Loss:     0.0025 Validation Accuracy: 0.6528\n",
      "Epoch 44, CIFAR-10 Batch 1:  Loss:     0.0021 Validation Accuracy: 0.6558\n",
      "Epoch 44, CIFAR-10 Batch 2:  Loss:     0.0019 Validation Accuracy: 0.6468\n",
      "Epoch 44, CIFAR-10 Batch 3:  Loss:     0.0006 Validation Accuracy: 0.6602\n",
      "Epoch 44, CIFAR-10 Batch 4:  Loss:     0.0063 Validation Accuracy: 0.6316\n",
      "Epoch 44, CIFAR-10 Batch 5:  Loss:     0.0012 Validation Accuracy: 0.6490\n",
      "Epoch 45, CIFAR-10 Batch 1:  Loss:     0.0039 Validation Accuracy: 0.6478\n",
      "Epoch 45, CIFAR-10 Batch 2:  Loss:     0.0007 Validation Accuracy: 0.6456\n",
      "Epoch 45, CIFAR-10 Batch 3:  Loss:     0.0017 Validation Accuracy: 0.6518\n",
      "Epoch 45, CIFAR-10 Batch 4:  Loss:     0.0016 Validation Accuracy: 0.6458\n",
      "Epoch 45, CIFAR-10 Batch 5:  Loss:     0.0197 Validation Accuracy: 0.6604\n",
      "Epoch 46, CIFAR-10 Batch 1:  Loss:     0.0040 Validation Accuracy: 0.6442\n",
      "Epoch 46, CIFAR-10 Batch 2:  Loss:     0.0033 Validation Accuracy: 0.6444\n",
      "Epoch 46, CIFAR-10 Batch 3:  Loss:     0.0003 Validation Accuracy: 0.6510\n",
      "Epoch 46, CIFAR-10 Batch 4:  Loss:     0.0022 Validation Accuracy: 0.6436\n",
      "Epoch 46, CIFAR-10 Batch 5:  Loss:     0.0035 Validation Accuracy: 0.6438\n",
      "Epoch 47, CIFAR-10 Batch 1:  Loss:     0.0030 Validation Accuracy: 0.6452\n",
      "Epoch 47, CIFAR-10 Batch 2:  Loss:     0.0007 Validation Accuracy: 0.6406\n",
      "Epoch 47, CIFAR-10 Batch 3:  Loss:     0.0005 Validation Accuracy: 0.6590\n",
      "Epoch 47, CIFAR-10 Batch 4:  Loss:     0.0064 Validation Accuracy: 0.6470\n",
      "Epoch 47, CIFAR-10 Batch 5:  Loss:     0.0043 Validation Accuracy: 0.6554\n",
      "Epoch 48, CIFAR-10 Batch 1:  Loss:     0.0023 Validation Accuracy: 0.6502\n",
      "Epoch 48, CIFAR-10 Batch 2:  Loss:     0.0036 Validation Accuracy: 0.6460\n",
      "Epoch 48, CIFAR-10 Batch 3:  Loss:     0.0009 Validation Accuracy: 0.6524\n",
      "Epoch 48, CIFAR-10 Batch 4:  Loss:     0.0033 Validation Accuracy: 0.6444\n",
      "Epoch 48, CIFAR-10 Batch 5:  Loss:     0.0047 Validation Accuracy: 0.6494\n",
      "Epoch 49, CIFAR-10 Batch 1:  Loss:     0.0067 Validation Accuracy: 0.6460\n",
      "Epoch 49, CIFAR-10 Batch 2:  Loss:     0.0018 Validation Accuracy: 0.6526\n",
      "Epoch 49, CIFAR-10 Batch 3:  Loss:     0.0011 Validation Accuracy: 0.6490\n",
      "Epoch 49, CIFAR-10 Batch 4:  Loss:     0.0034 Validation Accuracy: 0.6372\n",
      "Epoch 49, CIFAR-10 Batch 5:  Loss:     0.0011 Validation Accuracy: 0.6600\n",
      "Epoch 50, CIFAR-10 Batch 1:  Loss:     0.0020 Validation Accuracy: 0.6470\n",
      "Epoch 50, CIFAR-10 Batch 2:  Loss:     0.0010 Validation Accuracy: 0.6580\n",
      "Epoch 50, CIFAR-10 Batch 3:  Loss:     0.0015 Validation Accuracy: 0.6644\n",
      "Epoch 50, CIFAR-10 Batch 4:  Loss:     0.0015 Validation Accuracy: 0.6592\n",
      "Epoch 50, CIFAR-10 Batch 5:  Loss:     0.0036 Validation Accuracy: 0.6656\n"
     ]
    }
   ],
   "source": [
    "save_model_path = './image_classification'\n",
    "\n",
    "print('Training...')\n",
    "with tf.Session() as sess:\n",
    "    # Initializing the variables\n",
    "    sess.run(tf.global_variables_initializer())\n",
    "    \n",
    "    # Training cycle\n",
    "    for epoch in range(epochs):\n",
    "        # Loop over all batches\n",
    "        n_batches = 5\n",
    "        for batch_i in range(1, n_batches + 1):\n",
    "            for batch_features, batch_labels in helper.load_preprocess_training_batch(batch_i, batch_size):\n",
    "                train_neural_network(sess, optimizer, keep_probability, batch_features, batch_labels)\n",
    "            print('Epoch {:>2}, CIFAR-10 Batch {}:  '.format(epoch + 1, batch_i), end='')\n",
    "            print_stats(sess, batch_features, batch_labels, cost, accuracy)\n",
    "            \n",
    "    # Save Model\n",
    "    saver = tf.train.Saver()\n",
    "    save_path = saver.save(sess, save_model_path)"
   ]
  },
  {
   "cell_type": "markdown",
   "metadata": {
    "deletable": true,
    "editable": true
   },
   "source": [
    "## Test Model\n",
    "Test the model against the test dataset. "
   ]
  },
  {
   "cell_type": "code",
   "execution_count": 20,
   "metadata": {
    "collapsed": false,
    "deletable": true,
    "editable": true
   },
   "outputs": [
    {
     "name": "stdout",
     "output_type": "stream",
     "text": [
      "Testing Accuracy: 0.6548828125\n",
      "\n"
     ]
    },
    {
     "data": {
      "image/png": "[encoded data removed]",
      "text/plain": [
       "<matplotlib.figure.Figure at 0x105c35358>"
      ]
     },
     "metadata": {
      "image/png": {
       "height": 319,
       "width": 355
      }
     },
     "output_type": "display_data"
    }
   ],
   "source": [
    "# Course provided\n",
    "\n",
    "%matplotlib inline\n",
    "%config InlineBackend.figure_format = 'retina'\n",
    "\n",
    "import tensorflow as tf\n",
    "import pickle\n",
    "import helper\n",
    "import random\n",
    "\n",
    "# Set batch size if not already set\n",
    "try:\n",
    "    if batch_size:\n",
    "        pass\n",
    "except NameError:\n",
    "    batch_size = 64\n",
    "\n",
    "save_model_path = './image_classification'\n",
    "n_samples = 4\n",
    "top_n_predictions = 3\n",
    "\n",
    "def test_model():\n",
    "    \"\"\"\n",
    "    Test the saved model against the test dataset\n",
    "    \"\"\"\n",
    "\n",
    "    test_features, test_labels = pickle.load(open('preprocess_training.p', mode='rb'))\n",
    "    loaded_graph = tf.Graph()\n",
    "\n",
    "    with tf.Session(graph=loaded_graph) as sess:\n",
    "        # Load model\n",
    "        loader = tf.train.import_meta_graph(save_model_path + '.meta')\n",
    "        loader.restore(sess, save_model_path)\n",
    "\n",
    "        # Get Tensors from loaded model\n",
    "        loaded_x = loaded_graph.get_tensor_by_name('x:0')\n",
    "        loaded_y = loaded_graph.get_tensor_by_name('y:0')\n",
    "        loaded_keep_prob = loaded_graph.get_tensor_by_name('keep_prob:0')\n",
    "        loaded_logits = loaded_graph.get_tensor_by_name('logits:0')\n",
    "        loaded_acc = loaded_graph.get_tensor_by_name('accuracy:0')\n",
    "        \n",
    "        # Get accuracy in batches for memory limitations\n",
    "        test_batch_acc_total = 0\n",
    "        test_batch_count = 0\n",
    "        \n",
    "        for train_feature_batch, train_label_batch in helper.batch_features_labels(test_features, test_labels, batch_size):\n",
    "            test_batch_acc_total += sess.run(\n",
    "                loaded_acc,\n",
    "                feed_dict={loaded_x: train_feature_batch, loaded_y: train_label_batch, loaded_keep_prob: 1.0})\n",
    "            test_batch_count += 1\n",
    "\n",
    "        print('Testing Accuracy: {}\\n'.format(test_batch_acc_total/test_batch_count))\n",
    "\n",
    "        # Print Random Samples\n",
    "        random_test_features, random_test_labels = tuple(zip(*random.sample(list(zip(test_features, test_labels)), n_samples)))\n",
    "        random_test_predictions = sess.run(\n",
    "            tf.nn.top_k(tf.nn.softmax(loaded_logits), top_n_predictions),\n",
    "            feed_dict={loaded_x: random_test_features, loaded_y: random_test_labels, loaded_keep_prob: 1.0})\n",
    "        helper.display_image_predictions(random_test_features, random_test_labels, random_test_predictions)\n",
    "\n",
    "\n",
    "test_model()"
   ]
  },
  {
   "cell_type": "code",
   "execution_count": null,
   "metadata": {
    "collapsed": true
   },
   "outputs": [],
   "source": []
  }
 ],
 "metadata": {
  "kernelspec": {
   "display_name": "Python 3",
   "language": "python",
   "name": "python3"
  },
  "language_info": {
   "codemirror_mode": {
    "name": "ipython",
    "version": 3
   },
   "file_extension": ".py",
   "mimetype": "text/x-python",
   "name": "python",
   "nbconvert_exporter": "python",
   "pygments_lexer": "ipython3",
   "version": "3.6.0"
  }
 },
 "nbformat": 4,
 "nbformat_minor": 0
}
